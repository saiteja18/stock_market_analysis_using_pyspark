{
  "nbformat": 4,
  "nbformat_minor": 0,
  "metadata": {
    "colab": {
      "provenance": []
    },
    "kernelspec": {
      "name": "python3",
      "display_name": "Python 3"
    },
    "language_info": {
      "name": "python"
    }
  },
  "cells": [
    {
      "cell_type": "markdown",
      "source": [
        "##**Calculating Volatility of Stocks**\n",
        "\n",
        "\n"
      ],
      "metadata": {
        "id": "9qf0Qd329uBO"
      }
    },
    {
      "cell_type": "markdown",
      "source": [
        "**Stock volatility is the degree to which stock prices and market indexes change over time. Stocks with dramatic price swings, such as new highs and lows, are considered highly volatile. A stock with a relatively stable price has low volatility.**"
      ],
      "metadata": {
        "id": "qq2DXVSj98El"
      }
    },
    {
      "cell_type": "code",
      "source": [
        "from google.colab import drive\n",
        "\n",
        "# Mount Google Drive\n",
        "drive.mount('/content/drive')\n"
      ],
      "metadata": {
        "colab": {
          "base_uri": "https://localhost:8080/"
        },
        "id": "FSH-W7cG1c0t",
        "outputId": "68fe8821-f69c-4cb4-f3cd-a883d1580029"
      },
      "execution_count": 8,
      "outputs": [
        {
          "output_type": "stream",
          "name": "stdout",
          "text": [
            "Mounted at /content/drive\n"
          ]
        }
      ]
    },
    {
      "cell_type": "code",
      "execution_count": 9,
      "metadata": {
        "colab": {
          "base_uri": "https://localhost:8080/"
        },
        "id": "agHx6x-1zO12",
        "outputId": "c0d9c5d1-efb3-473c-b161-b87a0e5b867e"
      },
      "outputs": [
        {
          "output_type": "stream",
          "name": "stdout",
          "text": [
            "Top 10 volatile stocks:\n",
            "ACCD: 1.7069079574680452\n",
            "CVE: 1.9319705383921855\n",
            "CODA: 1.992318756301405\n",
            "ATXG: 2.2109826569631825\n",
            "AMPY: 2.923244834636972\n",
            "CHRD: 4.35516216606057\n",
            "BCAN: 5.966565136202249\n",
            "BTCS: 11.359641702724502\n",
            "BTTR: 18.006567499322095\n",
            "ABVC: 59.50464553977696\n",
            "\n",
            "Bottom 10 volatile stocks:\n",
            "ANSC: 0.0007868630717351416\n",
            "DYCQ: 0.0009580414232137578\n",
            "AITR: 0.0010388185454128294\n",
            "AACT: 0.0013040216846822337\n",
            "AFJK: 0.0013202043118592931\n",
            "BKHAU: 0.0013219074063541107\n",
            "BAYA: 0.0014254068923440874\n",
            "BOCN: 0.0014809889549399103\n",
            "ALCY: 0.0015541319220112987\n",
            "BOWN: 0.0016155531690422464\n"
          ]
        }
      ],
      "source": [
        "from google.colab import drive\n",
        "import os\n",
        "import csv\n",
        "from math import sqrt\n",
        "\n",
        "# Define function to parse CSV line\n",
        "def parse_csv_line(line):\n",
        "    return next(csv.reader([line]))\n",
        "\n",
        "# Define function to calculate returns\n",
        "def calculate_returns(adj_close_prices):\n",
        "    returns = [(adj_close_prices[i] - adj_close_prices[i-1]) / adj_close_prices[i-1] for i in range(1, len(adj_close_prices))]\n",
        "    return returns\n",
        "\n",
        "# Define function to calculate volatility\n",
        "def calculate_volatility(returns):\n",
        "    if not returns:  # Check if the list of returns is empty\n",
        "        return None\n",
        "    # Calculate the mean return\n",
        "    mean_return = sum(returns) / len(returns)\n",
        "    # Calculate the sum of squared differences between each return and the mean return\n",
        "    sum_squared_diff = sum((return_ - mean_return) ** 2 for return_ in returns)\n",
        "    # Calculate the variance\n",
        "    variance = sum_squared_diff / len(returns)\n",
        "    # Calculate the volatility (standard deviation)\n",
        "    volatility = sqrt(variance)\n",
        "    return volatility\n",
        "\n",
        "# Iterate over CSV files\n",
        "stocks_folder = '/content/drive/MyDrive/stocks'\n",
        "volatility_data = {}\n",
        "\n",
        "for file_name in os.listdir(stocks_folder):\n",
        "    file_path = os.path.join(stocks_folder, file_name)\n",
        "    if file_path.endswith('.csv'):\n",
        "        with open(file_path, 'r') as file:\n",
        "            next(file)  # Skip the first line (column names)\n",
        "            adj_close_prices = [float(parse_csv_line(line)[5]) for line in file]\n",
        "            returns = calculate_returns(adj_close_prices)\n",
        "            volatility = calculate_volatility(returns)\n",
        "            if volatility is not None:  # Check if volatility is calculated\n",
        "                volatility_data[file_name.split('.')[0]] = volatility\n",
        "\n",
        "# Sort the stocks based on volatility\n",
        "sorted_volatility = sorted(volatility_data.items(), key=lambda x: x[1])\n",
        "\n",
        "# Output the top 10 and bottom 10 volatile stocks\n",
        "top_10 = sorted_volatility[-10:]\n",
        "bottom_10 = sorted_volatility[:10]\n",
        "\n",
        "# Write data to CSV file\n",
        "csv_file_path = '/content/drive/MyDrive/volatility_of_Stockdata.csv'\n",
        "with open(csv_file_path, 'w', newline='') as csvfile:\n",
        "    fieldnames = ['Stock', 'Volatility']\n",
        "    writer = csv.DictWriter(csvfile, fieldnames=fieldnames)\n",
        "\n",
        "    writer.writeheader()\n",
        "    for stock_name, volatility in volatility_data.items():\n",
        "        writer.writerow({'Stock': stock_name, 'Volatility': volatility})\n",
        "\n",
        "print(\"Top 10 volatile stocks:\")\n",
        "for stock_name, volatility in top_10:\n",
        "    print(f\"{stock_name}: {volatility}\")\n",
        "\n",
        "print(\"\\nBottom 10 volatile stocks:\")\n",
        "for stock_name, volatility in bottom_10:\n",
        "    print(f\"{stock_name}: {volatility}\")\n"
      ]
    },
    {
      "cell_type": "code",
      "source": [
        "!pip install pyspark\n"
      ],
      "metadata": {
        "colab": {
          "base_uri": "https://localhost:8080/"
        },
        "id": "AmQmsNAHz8dK",
        "outputId": "c43c7485-1ec2-4dc8-c37d-457693d1d457"
      },
      "execution_count": 10,
      "outputs": [
        {
          "output_type": "stream",
          "name": "stdout",
          "text": [
            "Collecting pyspark\n",
            "  Downloading pyspark-3.5.1.tar.gz (317.0 MB)\n",
            "\u001b[2K     \u001b[90m━━━━━━━━━━━━━━━━━━━━━━━━━━━━━━━━━━━━━━━━\u001b[0m \u001b[32m317.0/317.0 MB\u001b[0m \u001b[31m2.5 MB/s\u001b[0m eta \u001b[36m0:00:00\u001b[0m\n",
            "\u001b[?25h  Preparing metadata (setup.py) ... \u001b[?25l\u001b[?25hdone\n",
            "Requirement already satisfied: py4j==0.10.9.7 in /usr/local/lib/python3.10/dist-packages (from pyspark) (0.10.9.7)\n",
            "Building wheels for collected packages: pyspark\n",
            "  Building wheel for pyspark (setup.py) ... \u001b[?25l\u001b[?25hdone\n",
            "  Created wheel for pyspark: filename=pyspark-3.5.1-py2.py3-none-any.whl size=317488491 sha256=4d4a0b5282a8576c6044927d33c4508f3c280ad6c00b3e6a3ab4ad8d3c8ec72c\n",
            "  Stored in directory: /root/.cache/pip/wheels/80/1d/60/2c256ed38dddce2fdd93be545214a63e02fbd8d74fb0b7f3a6\n",
            "Successfully built pyspark\n",
            "Installing collected packages: pyspark\n",
            "Successfully installed pyspark-3.5.1\n"
          ]
        }
      ]
    },
    {
      "cell_type": "code",
      "source": [
        "from pyspark.sql import SparkSession\n",
        "\n",
        "# Create a SparkSession\n",
        "spark = SparkSession.builder \\\n",
        "    .appName(\"StockVolatilityAnalysis\") \\\n",
        "    .getOrCreate()\n",
        "\n",
        "# Load the CSV file into a DataFrame\n",
        "csv_file_path = '/content/drive/MyDrive/volatility_of_Stockdata.csv'  # Replace with the actual path to your CSV file\n",
        "df = spark.read.csv(csv_file_path, header=True, inferSchema=True)\n",
        "\n",
        "# Show the DataFrame schema and first few rows\n",
        "df.printSchema()\n",
        "df.show()\n"
      ],
      "metadata": {
        "colab": {
          "base_uri": "https://localhost:8080/"
        },
        "id": "iPELZQzV0C31",
        "outputId": "d7591c42-364e-4050-dc71-43d971301b8d"
      },
      "execution_count": 11,
      "outputs": [
        {
          "output_type": "stream",
          "name": "stdout",
          "text": [
            "root\n",
            " |-- Stock: string (nullable = true)\n",
            " |-- Volatility: double (nullable = true)\n",
            "\n",
            "+-----+--------------------+\n",
            "|Stock|          Volatility|\n",
            "+-----+--------------------+\n",
            "| BSTZ|0.020326869601223607|\n",
            "| BSRR|0.037529736090293614|\n",
            "|  BST| 0.01622887983250533|\n",
            "| BSVN| 0.03212229301619287|\n",
            "|  BSY|0.026148420341630153|\n",
            "|  BSX|0.024138784223126514|\n",
            "|  BTA|0.009893136659484773|\n",
            "| BTAI| 0.06875416036076457|\n",
            "| BTBD| 0.06560336107945047|\n",
            "| BTBT| 0.09036509434106749|\n",
            "| BTCM| 0.06010002020035351|\n",
            "| BTCT|  0.5577248771413365|\n",
            "| BTCS|  11.359641702724502|\n",
            "| BTCY| 0.12665897150543381|\n",
            "| BTDR| 0.05751091322295747|\n",
            "|  BTE|0.038083593082453175|\n",
            "|  BTG|0.037537956648316335|\n",
            "|  BTI|0.019331238219601275|\n",
            "|  BTM| 0.04655114532316333|\n",
            "|  BTO|0.025135806158476427|\n",
            "+-----+--------------------+\n",
            "only showing top 20 rows\n",
            "\n"
          ]
        }
      ]
    },
    {
      "cell_type": "code",
      "source": [
        "from pyspark.sql.functions import min, max\n",
        "\n",
        "# Compute the minimum and maximum volatility\n",
        "min_volatility = df.agg(min(\"Volatility\")).collect()[0][0]\n",
        "max_volatility = df.agg(max(\"Volatility\")).collect()[0][0]\n",
        "\n",
        "print(\"Range of volatility:\")\n",
        "print(\"Minimum Volatility:\", min_volatility)\n",
        "print(\"Maximum Volatility:\", max_volatility)\n"
      ],
      "metadata": {
        "colab": {
          "base_uri": "https://localhost:8080/"
        },
        "id": "rMf9JlGx0FDT",
        "outputId": "a5cdf64c-7209-49ad-ca86-f642789efee4"
      },
      "execution_count": 12,
      "outputs": [
        {
          "output_type": "stream",
          "name": "stdout",
          "text": [
            "Range of volatility:\n",
            "Minimum Volatility: 0.0007868630717351416\n",
            "Maximum Volatility: 59.50464553977696\n"
          ]
        }
      ]
    },
    {
      "cell_type": "code",
      "source": [
        "import matplotlib.pyplot as plt\n",
        "\n",
        "# Extract volatility values as a list\n",
        "volatility_values = df.select(\"Volatility\").rdd.flatMap(lambda x: x).collect()\n",
        "\n",
        "# Plot histogram\n",
        "plt.figure(figsize=(10, 6))\n",
        "plt.hist(volatility_values, bins=20, color='skyblue', edgecolor='black')\n",
        "plt.title('Distribution of Volatility')\n",
        "plt.xlabel('Volatility')\n",
        "plt.ylabel('Frequency')\n",
        "plt.grid(True)\n",
        "plt.show()\n"
      ],
      "metadata": {
        "colab": {
          "base_uri": "https://localhost:8080/",
          "height": 564
        },
        "id": "6kJdwWbd4Yxv",
        "outputId": "e19cf38c-0403-4552-8054-a45d819bd450"
      },
      "execution_count": 13,
      "outputs": [
        {
          "output_type": "display_data",
          "data": {
            "text/plain": [
              "<Figure size 1000x600 with 1 Axes>"
            ],
            "image/png": "[encoded data removed]"
          },
          "metadata": {}
        }
      ]
    },
    {
      "cell_type": "code",
      "source": [],
      "metadata": {
        "id": "UBqlPM0l4xBl"
      },
      "execution_count": 14,
      "outputs": []
    },
    {
      "cell_type": "code",
      "source": [],
      "metadata": {
        "id": "iFnehcvT5Lnh"
      },
      "execution_count": null,
      "outputs": []
    }
  ]
}